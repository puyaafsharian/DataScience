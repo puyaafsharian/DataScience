{
 "cells": [
  {
   "cell_type": "markdown",
   "id": "74789626-0204-4c82-8aee-94e8d82ed990",
   "metadata": {},
   "source": [
    "# Data Science Tools and Ecosystem"
   ]
  },
  {
   "cell_type": "markdown",
   "id": "be650082-2f65-4914-8b76-9fd5d617e846",
   "metadata": {},
   "source": [
    "# In this notebook, Data Science Tools and Ecosystem are summarized."
   ]
  },
  {
   "cell_type": "markdown",
   "id": "8c135501-83e0-4052-9c64-3598da4109f3",
   "metadata": {},
   "source": [
    "__Objectives:__\n",
    "- List popular languages for Data Science\n",
    "- List popular libraries for Data Science\n",
    "- List popular tools for Data Science"
   ]
  },
  {
   "cell_type": "markdown",
   "id": "0b878faa-68e0-4b70-9175-bca5c7fed7a3",
   "metadata": {},
   "source": [
    "## Some of the popular languages that Data Scientists use are:"
   ]
  },
  {
   "cell_type": "markdown",
   "id": "c65e203a-9d86-4215-8258-a30422eb4808",
   "metadata": {},
   "source": [
    "1. Python\n",
    "2. R language\n",
    "3. Java Script"
   ]
  },
  {
   "cell_type": "markdown",
   "id": "d881ba8c-a517-40ed-ac93-4d60286157df",
   "metadata": {},
   "source": [
    "## Some of the commonly used libraries used by Data Scientists include:"
   ]
  },
  {
   "cell_type": "markdown",
   "id": "a8727bc1-cae9-4d77-8602-cc4e9deac71f",
   "metadata": {},
   "source": [
    "1. Panda\n",
    "2. Matplotlib\n",
    "3. Pytorch"
   ]
  },
  {
   "cell_type": "markdown",
   "id": "e37c9fc4-5bd7-4253-9a0f-0ad68ddb45a9",
   "metadata": {},
   "source": [
    "## Table of Data Science tools:\n",
    "|Data Science Tools|\n",
    "|------------------|\n",
    "|Jupiter Notebook|\n",
    "|Python|\n",
    "|R|"
   ]
  },
  {
   "cell_type": "markdown",
   "id": "bac293db-cbcf-410e-8ee0-85f04ba67926",
   "metadata": {},
   "source": [
    "### Below are a few examples of evaluating arithmetic expressions in Python:"
   ]
  },
  {
   "cell_type": "code",
   "execution_count": 4,
   "id": "162b1877-754b-49e4-8c2e-603efe5c8717",
   "metadata": {},
   "outputs": [
    {
     "name": "stdout",
     "output_type": "stream",
     "text": [
      "This a simple arithmetic expression to mutiply then add integers\n"
     ]
    },
    {
     "data": {
      "text/plain": [
       "17"
      ]
     },
     "execution_count": 4,
     "metadata": {},
     "output_type": "execute_result"
    }
   ],
   "source": [
    "print(\"This a simple arithmetic expression to mutiply then add integers\")\n",
    "(3*4)+5"
   ]
  },
  {
   "cell_type": "code",
   "execution_count": 7,
   "id": "e056d778-e06c-4663-b44e-74a978e9ff33",
   "metadata": {},
   "outputs": [
    {
     "name": "stdout",
     "output_type": "stream",
     "text": [
      "This will convert 200 minutes to hours by diving by 60\n"
     ]
    },
    {
     "data": {
      "text/plain": [
       "3.3333333333333335"
      ]
     },
     "execution_count": 7,
     "metadata": {},
     "output_type": "execute_result"
    }
   ],
   "source": [
    "print(\"This will convert 200 minutes to hours by diving by 60\")\n",
    "200/60"
   ]
  },
  {
   "cell_type": "markdown",
   "id": "9def0d97-9b63-4124-a672-95454f874f39",
   "metadata": {},
   "source": [
    "## Author:\n",
    "Pouya Afsharian"
   ]
  },
  {
   "cell_type": "code",
   "execution_count": null,
   "id": "1d6628a5-39b9-4e2e-b624-c9a4082d66f7",
   "metadata": {},
   "outputs": [],
   "source": []
  }
 ],
 "metadata": {
  "kernelspec": {
   "display_name": "Python 3 (ipykernel)",
   "language": "python",
   "name": "python3"
  },
  "language_info": {
   "codemirror_mode": {
    "name": "ipython",
    "version": 3
   },
   "file_extension": ".py",
   "mimetype": "text/x-python",
   "name": "python",
   "nbconvert_exporter": "python",
   "pygments_lexer": "ipython3",
   "version": "3.11.7"
  }
 },
 "nbformat": 4,
 "nbformat_minor": 5
}
